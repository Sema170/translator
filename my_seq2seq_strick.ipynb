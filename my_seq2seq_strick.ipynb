{
 "cells": [
  {
   "cell_type": "code",
   "execution_count": null,
   "id": "0f5ddf3e-50b7-4a88-8120-7b9dd4781d8b",
   "metadata": {},
   "outputs": [
    {
     "name": "stdout",
     "output_type": "stream",
     "text": [
      "WARNING:tensorflow:From C:\\Users\\User\\miniconda3\\envs\\tf_2.15\\Lib\\site-packages\\keras\\src\\losses.py:2976: The name tf.losses.sparse_softmax_cross_entropy is deprecated. Please use tf.compat.v1.losses.sparse_softmax_cross_entropy instead.\n",
      "\n"
     ]
    }
   ],
   "source": [
    "import tensorflow as tf\n",
    "from tensorflow import keras\n",
    "import os\n",
    "import pathlib\n",
    "import numpy as np\n",
    "import matplotlib.pyplot as plt\n",
    "from matplotlib import ticker\n"
   ]
  },
  {
   "cell_type": "code",
   "execution_count": 2,
   "id": "0fed84da-6587-4bf3-a51e-da5521245d76",
   "metadata": {},
   "outputs": [
    {
     "name": "stdout",
     "output_type": "stream",
     "text": [
      "Tensor_flow.v.2.15.0 \n",
      "Using /physical_device:CPU:0\n",
      "Using /physical_device:GPU:0\n"
     ]
    }
   ],
   "source": [
    "print(f\"Tensor_flow.v.{tf.__version__} \")\n",
    "# print(f\"Keras.v.{keras.version()}\")\n",
    "# tf.config.set_visible_devices([],\"GPU\")\n",
    "for device in tf.config.get_visible_devices():\n",
    "    print(f\"Using {device.name}\")"
   ]
  },
  {
   "cell_type": "code",
   "execution_count": 3,
   "id": "5a7505b6-db02-4d08-9a02-7b3ffcbcd629",
   "metadata": {},
   "outputs": [],
   "source": [
    "path_to_zip = keras.utils.get_file(\n",
    "    fname=\"ukr-eng.zip\",\n",
    "    origin=\"http://localhost/ukr-eng.zip\",\n",
    "    extract=True,\n",
    ")\n",
    "\n",
    "path_to_file = pathlib.Path(path_to_zip).parent/\"ukr.txt\""
   ]
  },
  {
   "cell_type": "code",
   "execution_count": 4,
   "id": "edaa9b84-d810-433d-a3b9-a51a1caf10de",
   "metadata": {},
   "outputs": [],
   "source": [
    "def file_to_arrays(path_to_file):\n",
    "    text = path_to_file.read_text(encoding='utf-8').split(\"\\n\")\n",
    "    column0_text = []\n",
    "    column1_text = []\n",
    "    for i,row in enumerate(text):\n",
    "        row = row.split(\"\\t\")\n",
    "        if len(row) == 3:\n",
    "            column0_text.append(row[0])\n",
    "            column1_text.append(row[1])\n",
    "        else:\n",
    "            print(f\"SKIP LINE:{i} --->\",row)\n",
    "    return np.array(column0_text), np.array(column1_text)"
   ]
  },
  {
   "cell_type": "code",
   "execution_count": 5,
   "id": "a6864c91-5921-48fc-9585-a2bc82a91bb1",
   "metadata": {},
   "outputs": [
    {
     "name": "stdout",
     "output_type": "stream",
     "text": [
      "SKIP LINE:159432 ---> ['']\n"
     ]
    }
   ],
   "source": [
    "eng_text, ukr_text = file_to_arrays(path_to_file)"
   ]
  },
  {
   "cell_type": "code",
   "execution_count": 6,
   "id": "42c63e94-3a07-422e-9b87-1881a8ada964",
   "metadata": {},
   "outputs": [],
   "source": [
    "def show_uniq_char(iter_text):\n",
    "    uniq_char = sorted(list(set(\"\\n\".join(iter_text).lower())))\n",
    "    print(\"\".join(uniq_char))\n",
    "    for i in range(0,len(uniq_char),10):\n",
    "        print(uniq_char[i:i+10])"
   ]
  },
  {
   "cell_type": "code",
   "execution_count": 7,
   "id": "abc94b5d-e532-4153-8c22-3667f2c615e9",
   "metadata": {},
   "outputs": [],
   "source": [
    "def check_chars(chars_list, to_check):\n",
    "    for char in chars_list:\n",
    "        for i,row in enumerate(to_check):\n",
    "            if char in row:\n",
    "                print(f\"INDEX:{i} ---> {char} --->\",row)"
   ]
  },
  {
   "cell_type": "code",
   "execution_count": 8,
   "id": "19a0afd0-80c1-4fbc-83ce-c67c7947dc5c",
   "metadata": {},
   "outputs": [],
   "source": [
    "rng = np.random.default_rng()"
   ]
  },
  {
   "cell_type": "code",
   "execution_count": 9,
   "id": "ae210a78-f60d-4d85-95d2-c3f877db31dd",
   "metadata": {},
   "outputs": [
    {
     "name": "stderr",
     "output_type": "stream",
     "text": [
      "2024-06-29 18:05:53.432521: I tensorflow/core/common_runtime/gpu/gpu_device.cc:1929] Created device /job:localhost/replica:0/task:0/device:GPU:0 with 2085 MB memory:  -> device: 0, name: NVIDIA GeForce GTX 1060 3GB, pci bus id: 0000:01:00.0, compute capability: 6.1\n"
     ]
    }
   ],
   "source": [
    "BUFFER_SIZE = len(eng_text)\n",
    "BATCH_SIZE = 64\n",
    "\n",
    "is_train = rng.random(len(eng_text)) < 0.8\n",
    "\n",
    "train_raw = (\n",
    "    tf.data.Dataset\n",
    "        .from_tensor_slices((eng_text[is_train],ukr_text[is_train]))\n",
    "        .shuffle(BUFFER_SIZE)\n",
    "        .batch(BATCH_SIZE)\n",
    "        )\n",
    "\n",
    "val_raw = (\n",
    "    tf.data.Dataset\n",
    "        .from_tensor_slices((eng_text[~is_train],ukr_text[~is_train]))\n",
    "        .shuffle(BUFFER_SIZE)\n",
    "        .batch(BATCH_SIZE))"
   ]
  },
  {
   "cell_type": "code",
   "execution_count": 10,
   "id": "3087448f-a403-47bd-ba65-1a210864b3ba",
   "metadata": {},
   "outputs": [],
   "source": [
    "@keras.saving.register_keras_serializable()\n",
    "def ukr_string_clener(text):\n",
    "    text = tf.strings.lower(text,encoding='utf-8')\n",
    "    text = tf.strings.regex_replace(text, \"[á]\", \"а\")\n",
    "    text = tf.strings.regex_replace(text, \"[ó́]\", \"о\")\n",
    "    text = tf.strings.regex_replace(text, \"[ïї]\", \"ї\")\n",
    "    text = tf.strings.regex_replace(text, \"[^ a-zабвгдежзийклмнопрстуфхцчшщыьэюяєіїґ`-]\", \"\")\n",
    "    text = tf.strings.join([\"[START]\", text, \"[END]\"], separator=\" \")\n",
    "    return text\n",
    "\n",
    "@keras.saving.register_keras_serializable()\n",
    "def eng_string_clener(text):\n",
    "    text = tf.strings.lower(text,encoding='utf-8')\n",
    "    text = tf.strings.regex_replace(text, \"[é]\", \"e\")\n",
    "    text = tf.strings.regex_replace(text, \"[‘’]\", \"'\")\n",
    "    text = tf.strings.regex_replace(text, 'ï', \"i\")\n",
    "    text = tf.strings.regex_replace(text, \"[^ a-z'-]\", \"\")    \n",
    "    text = tf.strings.join([\"[START]\", text, \"[END]\"], separator=\" \")\n",
    "    return text"
   ]
  },
  {
   "cell_type": "code",
   "execution_count": 11,
   "id": "ed57240b-e61f-4288-87d4-da00f638911d",
   "metadata": {},
   "outputs": [],
   "source": [
    "max_vocab_size_input = 30000\n",
    "\n",
    "eng2int_processor = keras.layers.TextVectorization(\n",
    "    standardize=eng_string_clener,\n",
    "    max_tokens=max_vocab_size_input,\n",
    "    ragged=True,\n",
    ")\n",
    "max_vocab_size_output = 30000\n",
    "\n",
    "ukr2int_processor = keras.layers.TextVectorization(\n",
    "    standardize=ukr_string_clener,\n",
    "    # standardize=\"lower_and_strip_punctuation\",\n",
    "    max_tokens=max_vocab_size_output,\n",
    "    ragged=True,\n",
    ")"
   ]
  },
  {
   "cell_type": "code",
   "execution_count": 12,
   "id": "bdd63676-3a25-4a69-986c-5c72c7fdc47d",
   "metadata": {},
   "outputs": [
    {
     "name": "stdout",
     "output_type": "stream",
     "text": [
      "Vocab size:  9986\n",
      "['', '[UNK]', '[START]', '[END]', 'tom', 'i', 'you', 'to', 'the', 'a']\n"
     ]
    }
   ],
   "source": [
    "eng2int_processor.adapt(train_raw.map(lambda context,target: context))\n",
    "print(\"Vocab size: \", eng2int_processor.vocabulary_size())\n",
    "print(eng2int_processor.get_vocabulary()[:10])"
   ]
  },
  {
   "cell_type": "code",
   "execution_count": 13,
   "id": "2e65e186-e8f4-4a44-92d6-5fd686e038c3",
   "metadata": {},
   "outputs": [
    {
     "name": "stdout",
     "output_type": "stream",
     "text": [
      "Vocab size:  28395\n",
      "['', '[UNK]', '[START]', '[END]', 'я', 'том', 'не', 'що', 'це', 'ти']\n"
     ]
    }
   ],
   "source": [
    "ukr2int_processor.adapt(train_raw.map(lambda context,target: target))\n",
    "print(\"Vocab size: \", ukr2int_processor.vocabulary_size())\n",
    "print(ukr2int_processor.get_vocabulary()[:10])"
   ]
  },
  {
   "cell_type": "code",
   "execution_count": 14,
   "id": "9bc6b56e-c0f6-4e7a-a5ec-0a2735654800",
   "metadata": {},
   "outputs": [],
   "source": [
    "def text_processor(target, context):\n",
    "    target = eng2int_processor(target)\n",
    "    context = ukr2int_processor(context).to_tensor()\n",
    "    target_in = target[:,:-1].to_tensor()\n",
    "    target_out = target[:,1:].to_tensor()\n",
    "    return (context, target_in), target_out"
   ]
  },
  {
   "cell_type": "code",
   "execution_count": 15,
   "id": "36fc8c93-3c4b-4937-8f44-359b81646df3",
   "metadata": {},
   "outputs": [],
   "source": [
    "train_ds = train_raw.map(text_processor, tf.data.AUTOTUNE)\n",
    "val_ds = val_raw.map(text_processor, tf.data.AUTOTUNE)"
   ]
  },
  {
   "cell_type": "code",
   "execution_count": 16,
   "id": "735505c6-7eb9-4c45-9328-7f65ef943c33",
   "metadata": {},
   "outputs": [],
   "source": [
    "@keras.saving.register_keras_serializable()\n",
    "class Encoder(keras.layers.Layer):\n",
    "\n",
    "    def __init__(self, text_processor,units,**kwargs):\n",
    "        super().__init__(**kwargs)\n",
    "        self.text_processor = text_processor\n",
    "        self.units = units\n",
    "        self.vocab_size = text_processor.vocabulary_size()\n",
    "        self.embeddings = keras.layers.Embedding(\n",
    "            self.vocab_size,\n",
    "            units,\n",
    "            mask_zero=True,\n",
    "            )\n",
    "        self.rnn = keras.layers.Bidirectional(\n",
    "            merge_mode=\"sum\",\n",
    "            layer = keras.layers.GRU(\n",
    "                units=units,\n",
    "                return_sequences=True,\n",
    "                # return_state=True,\n",
    "                recurrent_initializer=\"glorot_uniform\",\n",
    "                # use_cudnn=False,\n",
    "                # unroll=True,\n",
    "                \n",
    "            ),\n",
    "        )\n",
    "\n",
    "    def get_config(self):\n",
    "        config = super().get_config()\n",
    "        config.update({\"units\":self.units,\n",
    "                       \"text_processor\":self.text_processor,\n",
    "                       \"vocabulary\":self.text_processor.get_vocabulary(),\n",
    "                      })\n",
    "        return config\n",
    "    @classmethod\n",
    "    def from_config(cls, config):\n",
    "        vocabulary = config.pop(\"vocabulary\")\n",
    "        config[\"text_processor\"][\"config\"][\"vocabulary\"] = vocabulary\n",
    "        config[\"text_processor\"] = keras.layers.TextVectorization.from_config(config[\"text_processor\"][\"config\"])\n",
    "        return cls(**config)\n",
    "        \n",
    "\n",
    "    def call(self, x):\n",
    "        x = self.embeddings(x)\n",
    "        x = self.rnn(x)\n",
    "        return x\n",
    "    \n",
    "    def convert_input(self, texts):\n",
    "        texts = tf.convert_to_tensor(texts)\n",
    "        if len(texts.shape) == 0:\n",
    "            texts = tf.convert_to_tensor(texts)[tf.newaxis]\n",
    "        context = self.text_processor(texts).to_tensor()\n",
    "        context = self(context)\n",
    "        return context"
   ]
  },
  {
   "cell_type": "code",
   "execution_count": 17,
   "id": "a6b896e2-c606-47c7-8d42-e5599c2a133e",
   "metadata": {},
   "outputs": [],
   "source": [
    "@keras.saving.register_keras_serializable()\n",
    "class CrossAttention(keras.layers.Layer):\n",
    "\n",
    "    def __init__(self, units, **kwargs):\n",
    "        super().__init__(**kwargs)\n",
    "        self.units = units\n",
    "        self.mha = keras.layers.MultiHeadAttention(key_dim=units, num_heads=1, **kwargs)\n",
    "        self.layernorm = keras.layers.LayerNormalization()\n",
    "        self.add = keras.layers.Add()\n",
    "\n",
    "    def get_config(self):\n",
    "        config = super().get_config()\n",
    "        config.update({\"units\":self.units,})\n",
    "        return config\n",
    "    \n",
    "    def call(self, inputs):\n",
    "        x, context = inputs\n",
    "        attn_output, attn_scores = self.mha(\n",
    "            query=x,\n",
    "            value=context,\n",
    "            return_attention_scores=True,\n",
    "        )\n",
    "        attn_scores = tf.reduce_mean(attn_scores, axis=1)\n",
    "        self.last_attention_weights = attn_scores\n",
    "        x = self.add([x, attn_output])\n",
    "        x = self.layernorm(x)\n",
    "        return x"
   ]
  },
  {
   "cell_type": "code",
   "execution_count": 18,
   "id": "ba632605-a417-4ded-ac10-ec06387d6d04",
   "metadata": {},
   "outputs": [],
   "source": [
    "@keras.saving.register_keras_serializable()\n",
    "class Decoder(keras.layers.Layer):\n",
    "\n",
    "    def __init__(self, text_processor, units, **kwargs):\n",
    "        super().__init__(**kwargs)\n",
    "        self.units = units\n",
    "        self.text_processor = text_processor\n",
    "        self.vocab_size = text_processor.vocabulary_size()\n",
    "        # print(vocabulary)\n",
    "        # if not vocabulary:\n",
    "        #     print(\"IF\")\n",
    "        #     self.vocabulary = text_processor.get_vocabulary()\n",
    "        # else:\n",
    "        #     print(\"ELSE\")\n",
    "            # self.vocabulary = vocabulary\n",
    "        self.vocabulary = text_processor.get_vocabulary()\n",
    "        # print(len(self.vocabulary))\n",
    "        self.word_to_id = keras.layers.StringLookup(\n",
    "            vocabulary=self.vocabulary,\n",
    "            mask_token=\"\",\n",
    "            oov_token=\"[UNK]\",       \n",
    "        )\n",
    "        self.id_to_word = keras.layers.StringLookup(\n",
    "            vocabulary=self.vocabulary,\n",
    "            mask_token=\"\",\n",
    "            oov_token=\"[UNK]\",\n",
    "            invert=True,            \n",
    "        )\n",
    "        # self.word_to_id = keras.layers.StringLookup(\n",
    "        #     vocabulary=text_processor.get_vocabulary(),\n",
    "        #     mask_token=\"\",\n",
    "        #     oov_token=\"[UNK]\",     \n",
    "        # )\n",
    "        self.start_token = self.word_to_id(\"[START]\")\n",
    "        self.end_token = self.word_to_id(\"[END]\")\n",
    "\n",
    "        self.units = units\n",
    "        self.embeding = keras.layers.Embedding(\n",
    "            self.vocab_size,\n",
    "            units,\n",
    "            mask_zero=True,\n",
    "            )\n",
    "        self.rnn = keras.layers.GRU(\n",
    "            units,\n",
    "            return_sequences=True,\n",
    "            return_state=True,\n",
    "            recurrent_initializer=\"glorot_uniform\",\n",
    "            # kernel_regularizer=keras.regularizers.L2(),\n",
    "        )\n",
    "        self.attention = CrossAttention(units)\n",
    "        self.output_layer = keras.layers.Dense(self.vocab_size,\n",
    "                                               # activity_regularizer=keras.regularizers.L2(),\n",
    "                                               # kernel_regularizer=keras.regularizers.L2(),\n",
    "                                               )\n",
    "\n",
    "\n",
    "    def get_config(self):\n",
    "        config = super().get_config()\n",
    "        config.update({\"units\":self.units,\n",
    "                       \"text_processor\":self.text_processor,\n",
    "                       \"vocabulary\":self.vocabulary,\n",
    "                      })\n",
    "        return config\n",
    "\n",
    "    @classmethod\n",
    "    def from_config(cls, config):\n",
    "        vocabulary = config.pop(\"vocabulary\")\n",
    "        config[\"text_processor\"][\"config\"][\"vocabulary\"] = vocabulary\n",
    "        config[\"text_processor\"] = keras.layers.TextVectorization.from_config(config[\"text_processor\"][\"config\"])\n",
    "        return cls(**config)\n",
    "        \n",
    "\n",
    "    def call(self, context, x, state=None, return_state=False):\n",
    "        x = self.embeding(x)\n",
    "        x, state = self.rnn(x, initial_state=state)\n",
    "        x = self.attention((x, context))\n",
    "        self.last_attention_weights = self.attention.last_attention_weights\n",
    "        logits = self.output_layer(x)\n",
    "        if return_state:\n",
    "            return logits, state\n",
    "        else:\n",
    "            return logits \n",
    "\n",
    "\n",
    "    def get_initial_state(self, context):\n",
    "        batch_size = tf.shape(context)[0]\n",
    "        start_tokens = tf.fill((batch_size,1), self.start_token)\n",
    "        done = tf.zeros((batch_size,1), dtype=tf.bool)\n",
    "        embedded = self.embeding(start_tokens)\n",
    "        return start_tokens, done, self.rnn.get_initial_state(embedded) # inputs only for tf<=2.15 else batchsize\n",
    "\n",
    "\n",
    "    def tokens_to_text(self, tokens):\n",
    "        words = self.id_to_word(tokens)\n",
    "        result = tf.strings.reduce_join(words, axis=-1, separator=\" \")\n",
    "        result = tf.strings.regex_replace(result, \"^ *\\[START\\] *\", \"\")\n",
    "        result = tf.strings.regex_replace(result, \" *\\[END\\] *$\", \"\")\n",
    "        return result\n",
    "\n",
    "\n",
    "    def get_next_token(self, context, next_token, done, state, temperature=0.0):\n",
    "        logits, state = self(\n",
    "            context, next_token,\n",
    "            state=state,\n",
    "            return_state=True,\n",
    "        )\n",
    "        if temperature == 0.0:\n",
    "            next_token = tf.argmax(logits, axis=-1)\n",
    "        else:\n",
    "            logits = logits[:,-1,:] / temperature\n",
    "            next_token = tf.random.categorical(logits, num_samples=1)\n",
    "        done = done | (next_token == self.end_token)\n",
    "        next_token = tf.where(done, tf.constant(0, dtype=tf.int64), next_token)\n",
    "        return next_token, done, state"
   ]
  },
  {
   "cell_type": "code",
   "execution_count": 19,
   "id": "5b727785-471a-463f-93c5-5ab46160d87a",
   "metadata": {},
   "outputs": [],
   "source": [
    "@keras.saving.register_keras_serializable()\n",
    "class Translator(keras.Model):\n",
    "    def __init__(self, units,\n",
    "                 context_text_processor,\n",
    "                 target_text_processor,\n",
    "                 **kwargs\n",
    "                ):\n",
    "        super().__init__(**kwargs)\n",
    "        self.units = units\n",
    "        self.context_text_processor = context_text_processor\n",
    "        # print(context_text_processor)\n",
    "        self.target_text_processor = target_text_processor\n",
    "        self.encoder = Encoder(context_text_processor, units)\n",
    "        self.decoder = Decoder(target_text_processor, units)\n",
    "\n",
    "    def get_config(self):\n",
    "        config = super().get_config()\n",
    "        config.update({\"units\":self.units,\n",
    "                       \"context_text_processor\":self.context_text_processor,\n",
    "                       \"target_text_processor\":self.target_text_processor,\n",
    "                       \"context_vocabulary\":self.context_text_processor.get_vocabulary(),\n",
    "                       \"target_vocabulary\":self.target_text_processor.get_vocabulary(),\n",
    "                      })\n",
    "        return config\n",
    "        \n",
    "    @classmethod\n",
    "    def from_config(cls, config):\n",
    "        # print(config)\n",
    "        context_vocabulary = config.pop(\"context_vocabulary\")\n",
    "        target_vocabulary = config.pop(\"target_vocabulary\")\n",
    "        config[\"context_text_processor\"][\"config\"][\"vocabulary\"] = context_vocabulary\n",
    "        config[\"target_text_processor\"][\"config\"][\"vocabulary\"] = target_vocabulary\n",
    "        config[\"context_text_processor\"] = keras.layers.TextVectorization.from_config(config[\"context_text_processor\"][\"config\"])\n",
    "        config[\"target_text_processor\"] = keras.layers.TextVectorization.from_config(config[\"target_text_processor\"][\"config\"])\n",
    "        return cls(**config)\n",
    "\n",
    "        \n",
    "\n",
    "    def call(self, inputs):\n",
    "        context, x = inputs\n",
    "        context = self.encoder(context)\n",
    "        logits = self.decoder(context, x)\n",
    "        return logits\n",
    "\n",
    "    def translate(self, texts,\n",
    "                  max_lengs=50,\n",
    "                  temperature=0.0,\n",
    "                 ):\n",
    "        context = self.encoder.convert_input(texts)\n",
    "        batch_size = tf.shape(texts)[0]\n",
    "\n",
    "        tokens = []\n",
    "        attention_weights = []\n",
    "        next_token, done, state = self.decoder.get_initial_state(context)\n",
    "        for _ in range(max_lengs):\n",
    "            next_token, done, state = self.decoder.get_next_token(context, next_token, done, state, temperature)\n",
    "            tokens.append(next_token)\n",
    "            attention_weights.append(self.decoder.last_attention_weights)\n",
    "\n",
    "            if tf.executing_eagerly() and tf.reduce_all(done):\n",
    "                break\n",
    "\n",
    "        tokens = tf.concat(tokens, axis=-1)\n",
    "        result = self.decoder.tokens_to_text(tokens)\n",
    "\n",
    "        self.last_attention_weights = tf.concat(attention_weights, axis=1)\n",
    "        return result\n",
    "\n",
    "\n",
    "    def plot_attention(self, text, **kwargs):\n",
    "        assert isinstance(text, str)\n",
    "        output = self.translate([text],**kwargs)\n",
    "        output = output.numpy()[0].decode(\"utf-8\")\n",
    "        output = [\"[START]\"] + output.split() + [\"[END]\"]\n",
    "\n",
    "        text = context_text_processor(text)\n",
    "        text = text.numpy().decode(\"utf-8\").split()\n",
    "\n",
    "        attention = self.last_attention_weights[0]\n",
    "        fig = plt.figure(figsize=(10,10))\n",
    "        ax = fig.add_subplot(1,1,1)\n",
    "        ax.matshow(attention,\n",
    "                   cmap=\"viridis\",\n",
    "                   vmin=0.0,\n",
    "                  )\n",
    "        fontdict = {\"fontsize\":14}\n",
    "        ax.set_xticklabels([\"\"] + text, fontdict=fontdict, rotation=90)\n",
    "        ax.set_yticklabels(output, fontdict=fontdict)\n",
    "        ax.xaxis.set_major_locator(ticker.MultipleLocator(1))\n",
    "        ax.yaxis.set_major_locator(ticker.MultipleLocator(1))\n",
    "        ax.set_xlabel(\"Input text\")\n",
    "        ax.set_ylabel(\"OutputInput text\")"
   ]
  },
  {
   "cell_type": "code",
   "execution_count": 20,
   "id": "27173f67-5edb-424c-8b8c-15de816bcc0e",
   "metadata": {},
   "outputs": [],
   "source": [
    "@keras.saving.register_keras_serializable()\n",
    "def masked_loss(y_true, y_pred):\n",
    "    loss_fn = keras.losses.SparseCategoricalCrossentropy(\n",
    "        from_logits=True,\n",
    "        reduction=\"none\",\n",
    "    )\n",
    "    loss = loss_fn(y_true, y_pred)\n",
    "    mask = tf.cast(y_true != 0, loss.dtype)\n",
    "    loss *= mask\n",
    "    return tf.reduce_sum(loss)/tf.reduce_sum(mask)\n",
    "\n",
    "@keras.saving.register_keras_serializable()\n",
    "def masked_acc(y_true, y_pred):\n",
    "    y_pred = tf.argmax(y_pred, axis=-1)\n",
    "    y_pred = tf.cast(y_pred, y_true.dtype)\n",
    "\n",
    "    is_match = tf.cast(y_true == y_pred, tf.float32)\n",
    "    mask = tf.cast(y_true != 0, tf.float32)\n",
    "    return tf.reduce_sum(is_match)/tf.reduce_sum(mask)"
   ]
  },
  {
   "cell_type": "code",
   "execution_count": 21,
   "id": "eaa4fe5e-1e15-4d83-9959-5401e775c23f",
   "metadata": {},
   "outputs": [
    {
     "name": "stderr",
     "output_type": "stream",
     "text": [
      "2024-06-29 18:06:14.861538: I external/local_tsl/tsl/platform/default/subprocess.cc:304] Start cannot spawn child process: No such file or directory\n"
     ]
    }
   ],
   "source": [
    "UNITS = 512\n",
    "model = Translator(UNITS, ukr2int_processor, eng2int_processor)\n",
    "# encoder = CrossAttention(UNITS)\n",
    "# config = model.get_config()\n",
    "# print(config)\n",
    "# Translator.from_config(config)"
   ]
  },
  {
   "cell_type": "code",
   "execution_count": 22,
   "id": "aa335311-881c-469e-a46f-ec08649b56b7",
   "metadata": {},
   "outputs": [],
   "source": [
    "model.compile(\n",
    "    optimizer=\"adam\",\n",
    "    loss=masked_loss,\n",
    "    metrics=[masked_acc],\n",
    ")"
   ]
  },
  {
   "cell_type": "code",
   "execution_count": null,
   "id": "7a64fdd8-515c-42c4-b6a2-a38afe60c6c2",
   "metadata": {},
   "outputs": [],
   "source": [
    "history = model.fit(\n",
    "    train_ds.repeat(), \n",
    "    epochs=25,\n",
    "    steps_per_epoch = 400,\n",
    "    validation_data=val_ds,\n",
    "    validation_steps = 50,\n",
    "    # callbacks=[\n",
    "    #     tf.keras.callbacks.EarlyStopping(patience=5)],\n",
    ")"
   ]
  },
  {
   "cell_type": "code",
   "execution_count": 28,
   "id": "a04137b2-be2f-4d88-9ed0-60df28ccb110",
   "metadata": {},
   "outputs": [],
   "source": [
    "# model.evaluate(val_ds,return_dict=True)"
   ]
  },
  {
   "cell_type": "code",
   "execution_count": 29,
   "id": "dfa157e4-3a22-41ff-8032-a2848a36fa8b",
   "metadata": {},
   "outputs": [
    {
     "data": {
      "text/plain": [
       "<matplotlib.legend.Legend at 0x763b67dc2dd0>"
      ]
     },
     "execution_count": 29,
     "metadata": {},
     "output_type": "execute_result"
    },
    {
     "data": {
      "image/png": "[encoded data removed]",
      "text/plain": [
       "<Figure size 640x480 with 1 Axes>"
      ]
     },
     "metadata": {},
     "output_type": "display_data"
    }
   ],
   "source": [
    "plt.plot(history.history['masked_acc'], label='accuracy')\n",
    "plt.plot(history.history['val_masked_acc'], label='val_accuracy')\n",
    "plt.xlabel('Epoch #')\n",
    "plt.ylabel('CE/token')\n",
    "plt.legend()"
   ]
  },
  {
   "cell_type": "code",
   "execution_count": 78,
   "id": "9d1d54e8-e58a-4816-90ee-6d6441e6900e",
   "metadata": {},
   "outputs": [],
   "source": [
    "# x = [\n",
    "#     \"Hello world\",\n",
    "#     \"Maksim break tensorflow\",\n",
    "#     \"I am trying to run this model, but it is difficult to do\",\n",
    "#     \"pugs are awesome\",\n",
    "#     \"water is wet\",\n",
    "#     \"Water is usually wet at all times when it's not rigid or gas\",\n",
    "#     \"Happy Birthday to you Tom!\",\n",
    "#     \"Hello WORLD! this is not end\",\n",
    "# ]\n",
    "x =[\"Привіт світ\",\n",
    "    \"З днем народження Томе\",\n",
    "    \"Цей перекладач досить поганий\",\n",
    "    \"Том молиться на курку\",\n",
    "    \"курка несе яйця\",\n",
    "    \"Я не їв шість днів\",\n",
    "    \"Їжак це пацюк з голками\",\n",
    "    \"Я хочу дати тобі яблуко\",\n",
    "    \"Я маю добру душу\"\n",
    "   ]"
   ]
  },
  {
   "cell_type": "code",
   "execution_count": 31,
   "id": "190492b3-392c-4189-a50d-84f33e24cab7",
   "metadata": {},
   "outputs": [
    {
     "name": "stdout",
     "output_type": "stream",
     "text": [
      "hi the world is    \n",
      "pleased with tom     \n",
      "this is quite bad at the beginning \n",
      "tom is going to have chicken pox \n",
      "chicken is high     \n",
      "i haven't eaten six days   \n"
     ]
    }
   ],
   "source": [
    "print(tf.strings.reduce_join(model.translate(x), axis=-1,separator=\"\\n\").numpy().decode())"
   ]
  },
  {
   "cell_type": "code",
   "execution_count": null,
   "id": "da9571c0-d02b-40a6-b00f-10933bb5cc17",
   "metadata": {},
   "outputs": [],
   "source": [
    "for i in range(len(x)):\n",
    "    model.plot_attention(x[i], temperature=1.0)"
   ]
  },
  {
   "cell_type": "code",
   "execution_count": 33,
   "id": "75a7cf06-699c-4b75-95d0-45ab48dbeda7",
   "metadata": {},
   "outputs": [],
   "source": [
    "# long_text = \"Pugs were brought from China to Europe in the sixteenth century and \"\\\n",
    "#             \"were popularized in Western Europe by the House of Orange of the Netherlands, \"\\\n",
    "#             \"and the House of Stuart. In the United Kingdom, in the nineteenth century, \"\\\n",
    "#             \"Queen Victoria developed a passion for Pugs which she passed on to other members of the royal family.\"\n",
    "# print(tf.strings.reduce_join(model.translate([long_text]), axis=-1,separator=\"\\n\").numpy().decode())\n",
    "# model.plot_attention(long_text, temperature=0.0)"
   ]
  },
  {
   "cell_type": "code",
   "execution_count": 34,
   "id": "d42fa2be-9f97-48ce-8948-106728da8db0",
   "metadata": {},
   "outputs": [],
   "source": [
    "# model = CrossAttention(UNITS)\n",
    "# model((rng.random((64,13,256)),rng.random((64,13,256))))\n",
    "# inputs = keras.Input((5,5))\n",
    "# x = keras.layers.Dense(12)(inputs)\n",
    "# model = keras.Model(inputs,x)"
   ]
  },
  {
   "cell_type": "code",
   "execution_count": 35,
   "id": "685dc0c3-1d40-423c-b5c9-c7bc5bb9bff9",
   "metadata": {},
   "outputs": [
    {
     "name": "stderr",
     "output_type": "stream",
     "text": [
      "2024-06-29 18:17:19.697114: W external/local_tsl/tsl/framework/cpu_allocator_impl.cc:83] Allocation of 58152960 exceeds 10% of free system memory.\n",
      "2024-06-29 18:17:19.903134: W external/local_tsl/tsl/framework/cpu_allocator_impl.cc:83] Allocation of 58152960 exceeds 10% of free system memory.\n",
      "2024-06-29 18:17:20.657870: W external/local_tsl/tsl/framework/cpu_allocator_impl.cc:83] Allocation of 58152960 exceeds 10% of free system memory.\n"
     ]
    }
   ],
   "source": [
    "model.save(\"my_translator_to_eng.keras\")"
   ]
  },
  {
   "cell_type": "code",
   "execution_count": 36,
   "id": "47cb0b9d-3f8a-4553-8cc9-ecb8e2b515ec",
   "metadata": {},
   "outputs": [
    {
     "name": "stderr",
     "output_type": "stream",
     "text": [
      "2024-06-29 18:17:50.654053: W external/local_tsl/tsl/framework/cpu_allocator_impl.cc:83] Allocation of 58152960 exceeds 10% of free system memory.\n",
      "2024-06-29 18:17:51.171152: W external/local_tsl/tsl/framework/cpu_allocator_impl.cc:83] Allocation of 58152960 exceeds 10% of free system memory.\n"
     ]
    }
   ],
   "source": [
    "loaded_model = keras.models.load_model(\"my_translator_to_eng.keras\")\n",
    "# model = loaded_model"
   ]
  },
  {
   "cell_type": "code",
   "execution_count": 37,
   "id": "4a22f75d-bed1-441f-91c8-ca9920c965e3",
   "metadata": {},
   "outputs": [],
   "source": [
    "# print(tf.strings.reduce_join(loaded_model.translate(x), axis=-1,separator=\"\\n\").numpy().decode())"
   ]
  },
  {
   "cell_type": "code",
   "execution_count": 38,
   "id": "77a0c099-af70-428a-af29-74d318309da6",
   "metadata": {},
   "outputs": [],
   "source": [
    "class Export(tf.Module):\n",
    "    def __init__(self, model):\n",
    "        self.model = model\n",
    "\n",
    "    @tf.function(input_signature=[tf.TensorSpec(shape=[None], dtype=tf.string)])\n",
    "    def translate(self, inputs):\n",
    "        return self.model.translate(inputs)"
   ]
  },
  {
   "cell_type": "code",
   "execution_count": 35,
   "id": "b5260b94-1d4d-40c7-865d-a050968837e8",
   "metadata": {},
   "outputs": [],
   "source": [
    "# export = Export(model)"
   ]
  },
  {
   "cell_type": "code",
   "execution_count": 36,
   "id": "7c67ab36-c5b4-4206-bb87-a402718e7df0",
   "metadata": {},
   "outputs": [],
   "source": [
    "# tf.saved_model.save(export, \"translator\",signatures={\"serving_default\":export.translate})"
   ]
  },
  {
   "cell_type": "code",
   "execution_count": 37,
   "id": "d61cc9db-3e44-4b77-a2d3-4b1450a71b11",
   "metadata": {},
   "outputs": [],
   "source": [
    "# reloaded = tf.saved_model.load(\"translator\")"
   ]
  },
  {
   "cell_type": "code",
   "execution_count": 79,
   "id": "18167c0e-aaf6-4d98-aebd-685c3da685d3",
   "metadata": {},
   "outputs": [
    {
     "name": "stdout",
     "output_type": "stream",
     "text": [
      "hi the world is     \n",
      "pleased with tom      \n",
      "this is quite bad at the beginning  \n",
      "tom is going to have chicken pox  \n",
      "chicken is high      \n",
      "i haven't eaten six days    \n",
      "is it a sentence since you are born \n",
      "i want to give you an apple  \n",
      "i have a good shower    \n"
     ]
    }
   ],
   "source": [
    "print(tf.strings.reduce_join(loaded_model.translate(x), axis=-1,separator=\"\\n\").numpy().decode())\n",
    "model = loaded_model"
   ]
  }
 ],
 "metadata": {
  "kernelspec": {
   "display_name": "Python 3 (ipykernel)",
   "language": "python",
   "name": "python3"
  },
  "language_info": {
   "codemirror_mode": {
    "name": "ipython",
    "version": 3
   },
   "file_extension": ".py",
   "mimetype": "text/x-python",
   "name": "python",
   "nbconvert_exporter": "python",
   "pygments_lexer": "ipython3",
   "version": "3.11.9"
  }
 },
 "nbformat": 4,
 "nbformat_minor": 5
}
